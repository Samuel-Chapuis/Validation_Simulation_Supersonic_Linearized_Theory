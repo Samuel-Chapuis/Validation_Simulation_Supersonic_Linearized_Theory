{
 "cells": [
  {
   "cell_type": "code",
   "execution_count": 1,
   "id": "de838552",
   "metadata": {},
   "outputs": [],
   "source": [
    "import math\n",
    "import numpy as np"
   ]
  },
  {
   "cell_type": "code",
   "execution_count": null,
   "id": "095bd572",
   "metadata": {},
   "outputs": [],
   "source": [
    "def theta_from_beta(beta_rad: float, M: float, gamma: float = 1.4) -> float:\n",
    "    \"\"\"Return theta (rad) given beta (rad) and Mach M (perfect gas).\"\"\"\n",
    "    term1 = 2.0 / math.tan(beta_rad)\n",
    "    term2 = M**2 * math.sin(beta_rad)**2 - 1.0\n",
    "    term3 = M**2 * (gamma + math.cos(2.0 * beta_rad)) + 2.0\n",
    "    return math.atan(term1 * term2 / term3)\n",
    "\n",
    "def solve_beta_bisection(theta_deg: float,\n",
    "                         M: float,\n",
    "                         gamma: float = 1.4,\n",
    "                         tol: float = 1.0e-10,\n",
    "                         max_iter: int = 100) -> float:\n",
    "    \"\"\"\n",
    "    Solve for the shock angle beta (deg) by bisection, given\n",
    "    the flow deflection theta (deg) and upstream Mach M.\n",
    "    Returns the weak-shock solution.\n",
    "    \"\"\"\n",
    "    theta_rad = math.radians(theta_deg)\n",
    "\n",
    "    # Lower bound: just above the Mach line\n",
    "    beta_min = math.asin(1.0 / M) + 1.0e-6\n",
    "\n",
    "    def f(beta):\n",
    "        return theta_from_beta(beta, M, gamma) - theta_rad\n",
    "\n",
    "    f_prev = f(beta_min)\n",
    "    beta_prev = beta_min\n",
    "    beta_low = beta_high = None\n",
    "\n",
    "    # --- 1. automatic bracketing -----------------------------------------\n",
    "    # Scan beta from beta_min up to 89.9 deg until f changes sign.\n",
    "    for beta_deg_scan in np.linspace(math.degrees(beta_min) + 0.05, 89.9, 2000):\n",
    "        beta = math.radians(beta_deg_scan)\n",
    "        f_curr = f(beta)\n",
    "        if f_prev * f_curr <= 0.0:          # sign change -> root inside\n",
    "            beta_low, beta_high = beta_prev, beta\n",
    "            break\n",
    "        beta_prev, f_prev = beta, f_curr\n",
    "\n",
    "    if beta_low is None:\n",
    "        raise ValueError(\n",
    "            \"theta exceeds the maximum deflection (theta_max) for this Mach; \"\n",
    "            \"no attached oblique shock is possible.\"\n",
    "        )\n",
    "\n",
    "    # --- 2. classical bisection ------------------------------------------\n",
    "    for _ in range(max_iter):\n",
    "        beta_mid = 0.5 * (beta_low + beta_high)\n",
    "        f_mid = f(beta_mid)\n",
    "        if abs(f_mid) < tol:\n",
    "            return math.degrees(beta_mid)\n",
    "        if f(beta_low) * f_mid < 0.0:\n",
    "            beta_high = beta_mid\n",
    "        else:\n",
    "            beta_low = beta_mid\n",
    "\n",
    "    raise RuntimeError(\"Bisection did not converge; adjust tol or max_iter.\")\n"
   ]
  },
  {
   "cell_type": "code",
   "execution_count": 3,
   "id": "2feef127",
   "metadata": {},
   "outputs": [
    {
     "name": "stdout",
     "output_type": "stream",
     "text": [
      "theta =  0.5 deg,  M = 2.0  ->  beta =  30.4028 deg\n",
      "theta =  5.0 deg,  M = 2.0  ->  beta =  34.3016 deg\n",
      "theta = 10.0 deg,  M = 2.0  ->  beta =  39.3139 deg\n"
     ]
    }
   ],
   "source": [
    "for theta in (0.5, 5.0, 10.0):          # a few test cases\n",
    "\tM = 2.0\n",
    "\tbeta = solve_beta_bisection(theta, M)\n",
    "\tprint(f\"theta = {theta:>4.1f} deg,  M = {M}  ->  beta = {beta:8.4f} deg\")\n"
   ]
  },
  {
   "cell_type": "code",
   "execution_count": null,
   "id": "4cc7baf8",
   "metadata": {},
   "outputs": [],
   "source": []
  }
 ],
 "metadata": {
  "kernelspec": {
   "display_name": "base",
   "language": "python",
   "name": "python3"
  },
  "language_info": {
   "codemirror_mode": {
    "name": "ipython",
    "version": 3
   },
   "file_extension": ".py",
   "mimetype": "text/x-python",
   "name": "python",
   "nbconvert_exporter": "python",
   "pygments_lexer": "ipython3",
   "version": "3.12.4"
  }
 },
 "nbformat": 4,
 "nbformat_minor": 5
}
